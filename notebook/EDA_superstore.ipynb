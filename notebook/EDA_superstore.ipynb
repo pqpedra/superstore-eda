{
 "cells": [
  {
   "cell_type": "markdown",
   "id": "d27b6059",
   "metadata": {},
   "source": [
    "# Exploratory Data Analysis on Superstore Dataset\n",
    "This project is part of my data analysis portfolio.  \n",
    "The goal is to explore sales and profitability trends from the Superstore dataset using Python, Pandas, and visualization libraries."
   ]
  },
  {
   "cell_type": "markdown",
   "id": "52ed9d30",
   "metadata": {},
   "source": [
    "## Project Steps\n",
    "1. Data Loading\n",
    "2. Data Overview\n",
    "3. Data Cleaning (if needed)\n",
    "4. Exploratory Data Analysis (EDA)\n",
    "5. Visualization\n",
    "6. Insights and Conclusion"
   ]
  },
  {
   "cell_type": "code",
   "execution_count": null,
   "id": "6742cbf0",
   "metadata": {},
   "outputs": [],
   "source": [
    "# Imports\n",
    "import pandas as pd\n",
    "import numpy as np\n",
    "import matplotlib.pyplot as plt\n",
    "import seaborn as sns\n",
    "import os\n",
    "\n",
    "# Display settings\n",
    "pd.set_option(\"display.max_columns\", None)\n",
    "pd.set_option(\"display.float_format\", lambda x: f\"{x:,.2f}\")\n",
    "sns.set(style=\"whitegrid\", palette=\"pastel\")\n",
    "\n",
    "# Paths\n",
    "DATA_PATH = \"../data/Superstore.csv\"  # adjust filename if needed\n",
    "IMAGES_DIR = \"../images\"\n",
    "os.makedirs(IMAGES_DIR, exist_ok=True)\n",
    "\n",
    "print(\"Setup ready ✅\")"
   ]
  },
  {
   "cell_type": "code",
   "execution_count": null,
   "id": "74bf255e",
   "metadata": {},
   "outputs": [],
   "source": [
    "# Load dataset\n",
    "df = pd.read_csv(DATA_PATH, encoding=\"latin1\")  # handles special characters\n",
    "\n",
    "# Quick look at the data\n",
    "df.head()\n"
   ]
  },
  {
   "cell_type": "code",
   "execution_count": null,
   "id": "97e246e1",
   "metadata": {},
   "outputs": [],
   "source": [
    "# Basic info\n",
    "print(\"Shape (rows, columns):\", df.shape)\n",
    "print(\"\\nColumn types:\\n\", df.dtypes)\n",
    "\n",
    "# Missing values\n",
    "print(\"\\nMissing values per column:\")\n",
    "print(df.isna().sum())\n",
    "\n",
    "# Check for duplicates\n",
    "print(\"\\nDuplicate rows:\", df.duplicated().sum())"
   ]
  },
  {
   "cell_type": "markdown",
   "id": "68e3811e",
   "metadata": {},
   "source": [
    "## Exploratory Data Analysis (EDA)\n",
    "We will explore numerical and categorical variables, distributions, correlations, and key patterns in the dataset."
   ]
  },
  {
   "cell_type": "markdown",
   "id": "b19b971b",
   "metadata": {},
   "source": [
    "# Select numerical columns\n",
    "num_cols = df.select_dtypes(include=[np.number]).columns.tolist()\n",
    "df[num_cols].describe()"
   ]
  },
  {
   "cell_type": "code",
   "execution_count": null,
   "id": "46229382",
   "metadata": {},
   "outputs": [],
   "source": [
    "# Select categorical columns\n",
    "cat_cols = df.select_dtypes(include=[\"object\", \"category\"]).columns.tolist()\n",
    "df[cat_cols].describe()\n",
    "\n",
    "# Select numerical columns\n",
    "num_cols = df.select_dtypes(include=[np.number]).columns.tolist()\n"
   ]
  },
  {
   "cell_type": "code",
   "execution_count": null,
   "id": "3601479b",
   "metadata": {},
   "outputs": [],
   "source": [
    "# Histograms for numerical columns\n",
    "for col in num_cols:\n",
    "    plt.figure(figsize=(8,5))  # maior gráfico\n",
    "    sns.histplot(df[col], bins=30, kde=True, color=\"#4C72B0\")  # cor personalizada\n",
    "    plt.title(f'Distribution of {col}', fontsize=16)\n",
    "    plt.xlabel(col, fontsize=12)\n",
    "    plt.ylabel(\"Count\", fontsize=12)\n",
    "    plt.xticks(rotation=45)\n",
    "    plt.tight_layout()\n",
    "    plt.show()\n"
   ]
  },
  {
   "cell_type": "code",
   "execution_count": null,
   "id": "15f4ce6c",
   "metadata": {},
   "outputs": [],
   "source": [
    "# Boxplots for numerical columns\n",
    "for col in num_cols:\n",
    "    plt.figure(figsize=(8,3))\n",
    "    sns.boxplot(x=df[col], color=\"#55A868\")\n",
    "    plt.title(f'Boxplot of {col}', fontsize=16)\n",
    "    plt.xlabel(col, fontsize=12)\n",
    "    plt.tight_layout()\n",
    "    plt.show()\n"
   ]
  },
  {
   "cell_type": "code",
   "execution_count": null,
   "id": "48d7b902",
   "metadata": {},
   "outputs": [],
   "source": [
    "# Top categories for categorical columns\n",
    "for col in cat_cols:\n",
    "    plt.figure(figsize=(10,5))\n",
    "    top_values = df[col].value_counts().head(10)\n",
    "    sns.barplot(x=top_values.values, y=top_values.index, palette=\"pastel\")\n",
    "    plt.title(f'Top 10 Categories in {col}', fontsize=16)\n",
    "    plt.xlabel(\"Count\", fontsize=12)\n",
    "    plt.ylabel(col, fontsize=12)\n",
    "\n",
    "    # Mostrar valores nas barras\n",
    "    for i, v in enumerate(top_values.values):\n",
    "        plt.text(v + 5, i, str(v), color='black', va='center', fontsize=10)\n",
    "\n",
    "    plt.tight_layout()\n",
    "    plt.show()\n",
    "\n"
   ]
  },
  {
   "cell_type": "code",
   "execution_count": null,
   "id": "435288bc",
   "metadata": {},
   "outputs": [],
   "source": [
    "# Correlation matrix\n",
    "if len(num_cols) >= 2:\n",
    "    plt.figure(figsize=(8,6))\n",
    "    sns.heatmap(df[num_cols].corr(), annot=True, cmap=\"coolwarm\")\n",
    "    plt.title(\"Correlation Heatmap (Numerical Features)\")\n",
    "    plt.tight_layout()\n",
    "    plt.savefig(f\"{IMAGES_DIR}/correlation_heatmap.png\")\n",
    "    plt.show()\n"
   ]
  },
  {
   "cell_type": "markdown",
   "id": "1d4aa6ea",
   "metadata": {},
   "source": [
    "## Insights & Next Steps\n",
    "- Summarize the main findings here (top products, most profitable regions, patterns in sales)\n",
    "- Optionally, create a mini-dashboard using Streamlit\n",
    "- Consider adding predictive models for future sales or profit\n"
   ]
  }
 ],
 "metadata": {
  "kernelspec": {
   "display_name": ".venv",
   "language": "python",
   "name": "python3"
  },
  "language_info": {
   "codemirror_mode": {
    "name": "ipython",
    "version": 3
   },
   "file_extension": ".py",
   "mimetype": "text/x-python",
   "name": "python",
   "nbconvert_exporter": "python",
   "pygments_lexer": "ipython3",
   "version": "3.13.5"
  }
 },
 "nbformat": 4,
 "nbformat_minor": 5
}
